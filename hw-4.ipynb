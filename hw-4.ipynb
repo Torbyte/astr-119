{
 "cells": [
  {
   "cell_type": "code",
   "execution_count": null,
   "metadata": {},
   "outputs": [],
   "source": [
    "%matplotlib inline\n",
    "import numpy as np\n",
    "import matplotlib.pyplot as plt"
   ]
  },
  {
   "cell_type": "code",
   "execution_count": null,
   "metadata": {},
   "outputs": [],
   "source": [
    "# define a function for which we'd like to find roots\n",
    "def func(x):\n",
    "    a = 1.01\n",
    "    b = -3.04\n",
    "    c = 2.07\n",
    "    return a*x**2 + b*x + c #get the roots of ax^2+b+C"
   ]
  },
  {
   "cell_type": "code",
   "execution_count": null,
   "metadata": {},
   "outputs": [],
   "source": [
    "def check_initial_values(f, x_min, x_max, tol):\n",
    "    y_min = f(x_min)\n",
    "    y_max = f(x_max)\n",
    "    if(y_min*y_max>0.0):\n",
    "        print(\"No zero crossing found in the range = \",x_min,x_max)\n",
    "        return 0\n",
    "    if(np.fabs(y_min)<tol):\n",
    "        return 1\n",
    "    if(np.fabs(y_max)<tol):\n",
    "        return 2\n",
    "    return 3"
   ]
  },
  {
   "cell_type": "code",
   "execution_count": null,
   "metadata": {},
   "outputs": [],
   "source": [
    "def bisection_root_finding(f, x_min_start, x_max_start, tol):\n",
    "    x_min = x_min_start # min bracket\n",
    "    x_max = x_max_start # max bracket\n",
    "    x_mid = 0.0\n",
    "    y_min = f(x_min)\n",
    "    y_max = f(x_max)\n",
    "    y_mid = 0.0\n",
    "    imax = 10000 # max number of iterations \n",
    "    i = 0\n",
    "    flag = check_initial_values(f,x_min,x_max,tol)\n",
    "    if(flag==0):\n",
    "        print(\"Error in bisection_root_finding().\")\n",
    "        raise ValueError('Initial values invalid',x_min,x_max)\n",
    "    elif(flag==1):\n",
    "        return x_min\n",
    "    elif(flag==2):\n",
    "        return x_max\n",
    "    # if we reach this point, we need to iterate\n",
    "    \n",
    "    #set a flag\n",
    "    flag = 1\n",
    "    \n",
    "    #enter a while loop\n",
    "    while(flag):\n",
    "        x_mid = 0.5*(x_min + x_max) # mid point\n",
    "        y_mid = f(x_mid) #y value at x mid\n",
    "        #check if x mid is a root\n",
    "        if(np.fabs(y_mid)<tol):\n",
    "            #yay we are done\n",
    "            flag = 0\n",
    "            print('Iterations: ',(i))\n",
    "        else:\n",
    "            #x_mid not the root\n",
    "            # if the product of the function is not at the midpoint\n",
    "            #and the one at the end points is greater than zero\n",
    "            #then replace the end point\n",
    "            if(f(x_min)*f(x_mid)>0):\n",
    "                x_min=x_mid\n",
    "            else:\n",
    "                x_max=x_mid\n",
    "        #print out iteration\n",
    "        print(x_min,f(x_min),x_max,f(x_max))\n",
    "        \n",
    "        i+=1\n",
    "        \n",
    "        #if we reached max iteration then exit\n",
    "        if(i>=imax):\n",
    "            print(\"Exceeded max number of iterations = \",i)\n",
    "            s = \"Min bracket f(%f) = %f\" % (x_min,f(x_min))\n",
    "            s = \"Max bracket f(%f) = %f\" % (x_max,f(x_max))\n",
    "            s = \"Mid bracket f(%f) = %f\" % (x_mid,f(x_mid))\n",
    "            raise StopIteration('Stop iterations after', i)\n",
    "    return x_mid"
   ]
  },
  {
   "cell_type": "code",
   "execution_count": null,
   "metadata": {},
   "outputs": [],
   "source": [
    "#Perform the search from left side\n",
    "x_min = 0.0\n",
    "x_max = 1.5\n",
    "tolerance = 1.0e-6\n",
    "print(x_min,func(x_min))\n",
    "print(x_max,func(x_max))\n",
    "x_root = bisection_root_finding(func, x_min, x_max, tolerance)\n",
    "y_root = func(x_root)\n",
    "s = \"Root found with y(%f) = %f\" % (x_root,y_root)\n",
    "print(s)"
   ]
  },
  {
   "cell_type": "code",
   "execution_count": null,
   "metadata": {},
   "outputs": [],
   "source": [
    "#Perform the search from right side\n",
    "x_min = 1.5\n",
    "x_max = 3.0\n",
    "tolerance = 1.0e-6\n",
    "print(x_min,func(x_min))\n",
    "print(x_max,func(x_max))\n",
    "x_root = bisection_root_finding(func, x_min, x_max, tolerance)\n",
    "y_root = func(x_root)\n",
    "s = \"Root found with y(%f) = %f\" % (x_root,y_root)\n",
    "print(s)"
   ]
  },
  {
   "cell_type": "markdown",
   "metadata": {},
   "source": [
    "# 2) 17 Iterations were executed"
   ]
  },
  {
   "cell_type": "code",
   "execution_count": null,
   "metadata": {},
   "outputs": [],
   "source": [
    "plt.xlabel('x')\n",
    "plt.ylabel('f(x)')\n",
    "plt.xlim([0,3])\n",
    "plt.ylim([-0.5,2.1])\n",
    "plt.hlines(0, 0, 3, colors='magenta')\n",
    "x = np.linspace(0, 3, 1000)\n",
    "w = 1.01*x**2 - 3.04*x + 2.07\n",
    "\n",
    "#Initial brackets from left\n",
    "plt.scatter(0.0, 2.07, c='red')\n",
    "plt.scatter(1.5, -0.2175000000000007, c='red')\n",
    "\n",
    "#Initial Brackets from right\n",
    "plt.scatter(3.0, 2.0399999999999987, c='cyan')\n",
    "plt.scatter(1.5, -0.2175000000000007, c='cyan')\n",
    "\n",
    "#Roots\n",
    "plt.scatter(1.040869,0.000001, c='lime')\n",
    "plt.scatter(1.969030,0.000001, c='lime')\n",
    "plt.plot(x, w, color='black')\n",
    "plt.show()"
   ]
  },
  {
   "cell_type": "code",
   "execution_count": null,
   "metadata": {},
   "outputs": [],
   "source": []
  }
 ],
 "metadata": {
  "kernelspec": {
   "display_name": "Python 3",
   "language": "python",
   "name": "python3"
  },
  "language_info": {
   "codemirror_mode": {
    "name": "ipython",
    "version": 3
   },
   "file_extension": ".py",
   "mimetype": "text/x-python",
   "name": "python",
   "nbconvert_exporter": "python",
   "pygments_lexer": "ipython3",
   "version": "3.8.6"
  }
 },
 "nbformat": 4,
 "nbformat_minor": 4
}
