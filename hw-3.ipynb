{
 "cells": [
  {
   "cell_type": "code",
   "execution_count": null,
   "metadata": {},
   "outputs": [],
   "source": [
    "# Homework #3, Nathan McCall\n",
    "#\n",
    "#\n",
    "# Imports\n",
    "%matplotlib inline\n",
    "import numpy as np\n",
    "import matplotlib.pyplot as plt\n",
    "#One thousand values from 0 to 2*pi using linspace\n",
    "x = np.linspace(0, 2 * np.pi, 1000)\n",
    "#Functions\n",
    "w = 5.5*np.cos(2*x)+5.5\n",
    "y = 0.02*np.exp(x)\n",
    "z = 0.25*x**2 + 0.1*np.sin(10*x)\n",
    "#Axis labels\n",
    "plt.xlabel('Time in ASTR 119')\n",
    "plt.ylabel('Measure of Awesomeness')\n",
    "#X and Y axis Limits\n",
    "plt.xlim([0,2*np.pi])\n",
    "plt.ylim([-1,10])\n",
    "#Plot Functions and Show them on Graph\n",
    "plt.plot(x,w)\n",
    "plt.plot(x,y)\n",
    "plt.plot(x,z)\n",
    "plt.show()"
   ]
  },
  {
   "cell_type": "code",
   "execution_count": null,
   "metadata": {},
   "outputs": [],
   "source": []
  }
 ],
 "metadata": {
  "kernelspec": {
   "display_name": "Python 3",
   "language": "python",
   "name": "python3"
  },
  "language_info": {
   "codemirror_mode": {
    "name": "ipython",
    "version": 3
   },
   "file_extension": ".py",
   "mimetype": "text/x-python",
   "name": "python",
   "nbconvert_exporter": "python",
   "pygments_lexer": "ipython3",
   "version": "3.8.6"
  }
 },
 "nbformat": 4,
 "nbformat_minor": 4
}
