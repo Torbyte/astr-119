{
 "cells": [
  {
   "cell_type": "code",
   "execution_count": null,
   "metadata": {},
   "outputs": [],
   "source": [
    "%matplotlib inline\n",
    "import matplotlib.pyplot as plt\n",
    "import numpy as np\n",
    "import time\n"
   ]
  },
  {
   "cell_type": "markdown",
   "metadata": {},
   "source": [
    "## Lyapunov exponent"
   ]
  },
  {
   "cell_type": "code",
   "execution_count": null,
   "metadata": {},
   "outputs": [],
   "source": [
    "def lyapunov_exponent(x,r):\n",
    "    return 0.5*np.sum (np.log( np.fabs(4*r*(1-2*x))))"
   ]
  },
  {
   "cell_type": "code",
   "execution_count": null,
   "metadata": {},
   "outputs": [],
   "source": [
    "xn = np.zeros((100,30))\n",
    "xo = np.full(30,0.65)\n",
    "xn[0][:] = xo\n",
    "r = np.linspace(0.7, 1.0, 30)\n",
    "for j in range(30):\n",
    "    for i in range(99):\n",
    "        xn[i+1][j] = 4*r[j]*xn[i][j]*(1-xn[i][j])\n",
    "n = np.linspace(0, 99, 100)"
   ]
  },
  {
   "cell_type": "code",
   "execution_count": null,
   "metadata": {},
   "outputs": [],
   "source": [
    "##Figures and values of r\n",
    "for p in range(30):\n",
    "    plt.scatter(n,xn[:,p])\n",
    "    print(r[p])\n",
    "    plt.show()"
   ]
  },
  {
   "cell_type": "code",
   "execution_count": null,
   "metadata": {},
   "outputs": [],
   "source": [
    "a = np.zeros(30)\n",
    "for i in range(30):\n",
    "    a[i] = lyapunov_exponent(xn[:,i],r[i])\n",
    "plt.plot(r,a)\n",
    "plt.show()\n",
    "print(np.where(np.fabs(a)< 1.0))\n",
    "print(r[5])\n",
    "print(r[18])\n",
    "#approximately r value of 0.7517241379310344 and 0.8862068965517241 are instances where lambda is 0"
   ]
  },
  {
   "cell_type": "code",
   "execution_count": null,
   "metadata": {},
   "outputs": [],
   "source": [
    "%matplotlib notebook\n",
    "figure,ax=plt.subplots(1,2)\n",
    "ax[0].set_xlim([0.7,1.0])\n",
    "ax[0].set_ylim([-70,40])\n",
    "ax[1].set_xlim([0,100])\n",
    "ax[1].set_ylim([0,1])\n",
    "first = True\n",
    "for i in range(30):\n",
    "    if (first):\n",
    "        ax[0].plot(r[0:i+1],a[0:i+1])\n",
    "        first=False\n",
    "        ax[0].plot(r[i],a[i],marker='.',markersize=10)\n",
    "        for j in range(100):\n",
    "            ax[1].plot(n[j],xn[j,i],marker='.',markersize=10)\n",
    "    else:\n",
    "        ax[0].lines[0].set_xdata(r[0:i+1])\n",
    "        ax[0].lines[0].set_ydata(a[0:i+1])\n",
    "        ax[0].lines[1].set_xdata(r[i])\n",
    "        ax[0].lines[1].set_ydata(a[i])\n",
    "        for j in range(100):\n",
    "            ax[1].lines[j].set_xdata(n[j])\n",
    "            ax[1].lines[j].set_ydata(xn[j,i])\n",
    "    figure.canvas.draw()\n",
    "    time.sleep(0.1)"
   ]
  }
 ],
 "metadata": {
  "kernelspec": {
   "display_name": "Python 3",
   "language": "python",
   "name": "python3"
  },
  "language_info": {
   "codemirror_mode": {
    "name": "ipython",
    "version": 3
   },
   "file_extension": ".py",
   "mimetype": "text/x-python",
   "name": "python",
   "nbconvert_exporter": "python",
   "pygments_lexer": "ipython3",
   "version": "3.8.6"
  }
 },
 "nbformat": 4,
 "nbformat_minor": 4
}
